{
 "cells": [
  {
   "cell_type": "code",
   "execution_count": null,
   "metadata": {},
   "outputs": [],
   "source": [
    "import sagemaker\n",
    "from sagemaker.pytorch import PyTorch\n",
    "from sagemaker.tuner import HyperparameterTuner, IntegerParameter, ContinuousParameter\n",
    "\n",
    "# Initialize SageMaker session and role\n",
    "sagemaker_session = sagemaker.Session()\n",
    "role = sagemaker.get_execution_role()\n",
    "\n",
    "# S3 paths\n",
    "s3_bucket = 'bucket_name'\n",
    "s3_data_path = f's3://{s3_bucket}/data/'\n",
    "\n",
    "# Training script\n",
    "training_script = 'train.py'\n",
    "\n",
    "# Define the estimator\n",
    "pytorch_estimator = PyTorch(\n",
    "    entry_point=training_script,   # train.py\n",
    "    role=role,\n",
    "    framework_version='2.0.0',\n",
    "    py_version='py310',\n",
    "    instance_count=1,\n",
    "    instance_type='ml.m5.xlarge',  # Free tier instance\n",
    "    hyperparameters={\n",
    "        'batch-size': 32,\n",
    "        'lr': 0.001,\n",
    "        'epochs': 3\n",
    "    }\n",
    ")\n",
    "\n",
    "# Launch the training job\n",
    "pytorch_estimator.fit({'train': s3_data_path})"
   ]
  }
 ],
 "metadata": {
  "language_info": {
   "name": "python"
  }
 },
 "nbformat": 4,
 "nbformat_minor": 2
}
