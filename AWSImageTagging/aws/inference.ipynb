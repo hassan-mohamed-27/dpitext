{
 "cells": [
  {
   "cell_type": "code",
   "execution_count": null,
   "metadata": {},
   "outputs": [],
   "source": [
    "import boto3\n",
    "import sagemaker\n",
    "from sagemaker.pytorch import PyTorchModel\n",
    "\n",
    "s3_model_path = 's3://bucket_name/models/model.tar.gz'\n",
    "\n",
    "# Initialize the SageMaker session\n",
    "sagemaker_session = sagemaker.Session()\n",
    "\n",
    "# Define the SageMaker model\n",
    "pytorch_model = PyTorchModel(\n",
    "    model_data=s3_model_path,\n",
    "    role='arn:aws:iam::730335543821:role/sagemaker-role',  \n",
    "    entry_point='inference.py', \n",
    "    framework_version='2.0.0',\n",
    "    py_version='py310',\n",
    "    sagemaker_session=sagemaker_session\n",
    ")"
   ]
  },
  {
   "cell_type": "code",
   "execution_count": null,
   "metadata": {},
   "outputs": [],
   "source": [
    "# Define serverless configuration\n",
    "from sagemaker.serverless import ServerlessInferenceConfig\n",
    "\n",
    "serverless_config = ServerlessInferenceConfig(\n",
    "    memory_size_in_mb=2048,\n",
    "    max_concurrency=1  # Ensure it is free tier compliant\n",
    ")\n",
    "\n",
    "# Deploy the model\n",
    "predictor = pytorch_model.deploy(\n",
    "    serverless_inference_config=serverless_config\n",
    ")"
   ]
  }
 ],
 "metadata": {
  "language_info": {
   "name": "python"
  }
 },
 "nbformat": 4,
 "nbformat_minor": 2
}
